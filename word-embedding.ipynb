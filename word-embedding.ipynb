{
 "cells": [
  {
   "cell_type": "markdown",
   "id": "52414ff2",
   "metadata": {
    "papermill": {
     "duration": 0.015711,
     "end_time": "2022-08-22T22:14:37.687786",
     "exception": false,
     "start_time": "2022-08-22T22:14:37.672075",
     "status": "completed"
    },
    "tags": []
   },
   "source": [
    "**There are two ways to obtain word embeddings:**\n",
    "\n",
    "Learn word embeddings jointly with the main task you care about (e.g. document classification or sentiment prediction). In this setup, you would start with random word vectors, then learn your word vectors in the same way that you learn the weights of a neural network.\n",
    "Load into your model word embeddings that were pre-computed using a different machine learning task than the one you are trying to solve. These are called pre-trained word embeddings."
   ]
  },
  {
   "cell_type": "code",
   "execution_count": 1,
   "id": "e86510e9",
   "metadata": {
    "execution": {
     "iopub.execute_input": "2022-08-22T22:14:37.725200Z",
     "iopub.status.busy": "2022-08-22T22:14:37.724584Z",
     "iopub.status.idle": "2022-08-22T22:14:43.699828Z",
     "shell.execute_reply": "2022-08-22T22:14:43.700373Z",
     "shell.execute_reply.started": "2022-08-22T22:03:52.576336Z"
    },
    "papermill": {
     "duration": 5.99823,
     "end_time": "2022-08-22T22:14:43.700733",
     "exception": false,
     "start_time": "2022-08-22T22:14:37.702503",
     "status": "completed"
    },
    "tags": []
   },
   "outputs": [],
   "source": [
    "from tensorflow.keras import layers\n",
    "\n",
    "# The Embedding layer takes at least two arguments:\n",
    "# 1) the number of possible tokens, here 1000 (1 + maximum word index),\n",
    "# 2) the dimensionality of the embeddings, here 64.\n",
    "embedding_layer = layers.Embedding(1000, 64)"
   ]
  },
  {
   "cell_type": "markdown",
   "id": "44c638a3",
   "metadata": {
    "papermill": {
     "duration": 0.013153,
     "end_time": "2022-08-22T22:14:43.729286",
     "exception": false,
     "start_time": "2022-08-22T22:14:43.716133",
     "status": "completed"
    },
    "tags": []
   },
   "source": [
    "**The Embedding layer takes as input a 2D tensor of integers,**\n",
    "of shape (samples, sequence_length), where each entry is a sequence of integers.\n",
    "It returns a 3D floating-point tensor of shape(samples, sequence_length, embedding_dimensionality).\n",
    "The Embedding layer is best understood as a dictionary mapping integer indices (which stand for specific words) to dense vectors.\n",
    "It takes as input integers, it looks up these integers into an internal dictionary, and it returns the associated vectors. It's effectively a dictionary lookup."
   ]
  },
  {
   "cell_type": "code",
   "execution_count": 2,
   "id": "6ed4e26f",
   "metadata": {
    "execution": {
     "iopub.execute_input": "2022-08-22T22:14:43.758110Z",
     "iopub.status.busy": "2022-08-22T22:14:43.757322Z",
     "iopub.status.idle": "2022-08-22T22:14:49.520410Z",
     "shell.execute_reply": "2022-08-22T22:14:49.520922Z",
     "shell.execute_reply.started": "2022-08-22T22:04:00.584089Z"
    },
    "papermill": {
     "duration": 5.779194,
     "end_time": "2022-08-22T22:14:49.521113",
     "exception": false,
     "start_time": "2022-08-22T22:14:43.741919",
     "status": "completed"
    },
    "tags": []
   },
   "outputs": [
    {
     "name": "stdout",
     "output_type": "stream",
     "text": [
      "Downloading data from https://storage.googleapis.com/tensorflow/tf-keras-datasets/imdb.npz\n",
      "17465344/17464789 [==============================] - 0s 0us/step\n",
      "17473536/17464789 [==============================] - 0s 0us/step\n"
     ]
    }
   ],
   "source": [
    "from tensorflow.keras.datasets import imdb\n",
    "from tensorflow.keras import preprocessing\n",
    "\n",
    "# Number of words to consider as features\n",
    "max_features = 10000\n",
    "\n",
    "# Cut texts after this number of words (among top max_features most common words)\n",
    "maxlen = 20\n",
    "\n",
    "# Load the data as lists of integers.\n",
    "(x_train, y_train), (x_test, y_test) = imdb.load_data(num_words=max_features)\n",
    "\n",
    "# Turn our lists of integers into a 2D integer tensor of shape `(samples, maxlen)`\n",
    "x_train = preprocessing.sequence.pad_sequences(x_train, maxlen=maxlen)\n",
    "x_test = preprocessing.sequence.pad_sequences(x_test, maxlen=maxlen)"
   ]
  },
  {
   "cell_type": "code",
   "execution_count": 3,
   "id": "38bc8d98",
   "metadata": {
    "execution": {
     "iopub.execute_input": "2022-08-22T22:14:49.560828Z",
     "iopub.status.busy": "2022-08-22T22:14:49.560213Z",
     "iopub.status.idle": "2022-08-22T22:15:00.560113Z",
     "shell.execute_reply": "2022-08-22T22:15:00.560605Z",
     "shell.execute_reply.started": "2022-08-22T22:04:07.853453Z"
    },
    "papermill": {
     "duration": 11.02351,
     "end_time": "2022-08-22T22:15:00.560812",
     "exception": false,
     "start_time": "2022-08-22T22:14:49.537302",
     "status": "completed"
    },
    "tags": []
   },
   "outputs": [
    {
     "name": "stderr",
     "output_type": "stream",
     "text": [
      "\n",
      "User settings:\n",
      "\n",
      "   KMP_AFFINITY=granularity=fine,verbose,compact,1,0\n",
      "   KMP_BLOCKTIME=0\n",
      "   KMP_SETTINGS=1\n",
      "   KMP_WARNINGS=0\n",
      "\n",
      "Effective settings:\n",
      "\n",
      "   KMP_ABORT_DELAY=0\n",
      "   KMP_ADAPTIVE_LOCK_PROPS='1,1024'\n",
      "   KMP_ALIGN_ALLOC=64\n",
      "   KMP_ALL_THREADPRIVATE=128\n",
      "   KMP_ATOMIC_MODE=2\n",
      "   KMP_BLOCKTIME=0\n",
      "   KMP_CPUINFO_FILE: value is not defined\n",
      "   KMP_DETERMINISTIC_REDUCTION=false\n",
      "   KMP_DEVICE_THREAD_LIMIT=2147483647\n",
      "   KMP_DISP_NUM_BUFFERS=7\n",
      "   KMP_DUPLICATE_LIB_OK=false\n",
      "   KMP_ENABLE_TASK_THROTTLING=true\n",
      "   KMP_FORCE_REDUCTION: value is not defined\n",
      "   KMP_FOREIGN_THREADS_THREADPRIVATE=true\n",
      "   KMP_FORKJOIN_BARRIER='2,2'\n",
      "   KMP_FORKJOIN_BARRIER_PATTERN='hyper,hyper'\n",
      "   KMP_GTID_MODE=3\n",
      "   KMP_HANDLE_SIGNALS=false\n",
      "   KMP_HOT_TEAMS_MAX_LEVEL=1\n",
      "   KMP_HOT_TEAMS_MODE=0\n",
      "   KMP_INIT_AT_FORK=true\n",
      "   KMP_LIBRARY=throughput\n",
      "   KMP_LOCK_KIND=queuing\n",
      "   KMP_MALLOC_POOL_INCR=1M\n",
      "   KMP_NUM_LOCKS_IN_BLOCK=1\n",
      "   KMP_PLAIN_BARRIER='2,2'\n",
      "   KMP_PLAIN_BARRIER_PATTERN='hyper,hyper'\n",
      "   KMP_REDUCTION_BARRIER='1,1'\n",
      "   KMP_REDUCTION_BARRIER_PATTERN='hyper,hyper'\n",
      "   KMP_SCHEDULE='static,balanced;guided,iterative'\n",
      "   KMP_SETTINGS=true\n",
      "   KMP_SPIN_BACKOFF_PARAMS='4096,100'\n",
      "   KMP_STACKOFFSET=64\n",
      "   KMP_STACKPAD=0\n",
      "   KMP_STACKSIZE=8M\n",
      "   KMP_STORAGE_MAP=false\n",
      "   KMP_TASKING=2\n",
      "   KMP_TASKLOOP_MIN_TASKS=0\n",
      "   KMP_TASK_STEALING_CONSTRAINT=1\n",
      "   KMP_TEAMS_THREAD_LIMIT=4\n",
      "   KMP_TOPOLOGY_METHOD=all\n",
      "   KMP_USE_YIELD=1\n",
      "   KMP_VERSION=false\n",
      "   KMP_WARNINGS=false\n",
      "   OMP_AFFINITY_FORMAT='OMP: pid %P tid %i thread %n bound to OS proc set {%A}'\n",
      "   OMP_ALLOCATOR=omp_default_mem_alloc\n",
      "   OMP_CANCELLATION=false\n",
      "   OMP_DEFAULT_DEVICE=0\n",
      "   OMP_DISPLAY_AFFINITY=false\n",
      "   OMP_DISPLAY_ENV=false\n",
      "   OMP_DYNAMIC=false\n",
      "   OMP_MAX_ACTIVE_LEVELS=1\n",
      "   OMP_MAX_TASK_PRIORITY=0\n",
      "   OMP_NESTED: deprecated; max-active-levels-var=1\n",
      "   OMP_NUM_THREADS: value is not defined\n",
      "   OMP_PLACES: value is not defined\n",
      "   OMP_PROC_BIND='intel'\n",
      "   OMP_SCHEDULE='static'\n",
      "   OMP_STACKSIZE=8M\n",
      "   OMP_TARGET_OFFLOAD=DEFAULT\n",
      "   OMP_THREAD_LIMIT=2147483647\n",
      "   OMP_WAIT_POLICY=PASSIVE\n",
      "   KMP_AFFINITY='verbose,warnings,respect,granularity=fine,compact,1,0'\n",
      "\n",
      "2022-08-22 22:14:49.574016: I tensorflow/core/common_runtime/process_util.cc:146] Creating new thread pool with default inter op setting: 2. Tune using inter_op_parallelism_threads for best performance.\n",
      "2022-08-22 22:14:49.741896: I tensorflow/compiler/mlir/mlir_graph_optimization_pass.cc:185] None of the MLIR Optimization Passes are enabled (registered 2)\n"
     ]
    },
    {
     "name": "stdout",
     "output_type": "stream",
     "text": [
      "Model: \"sequential\"\n",
      "_________________________________________________________________\n",
      "Layer (type)                 Output Shape              Param #   \n",
      "=================================================================\n",
      "embedding_1 (Embedding)      (None, 20, 8)             80000     \n",
      "_________________________________________________________________\n",
      "flatten (Flatten)            (None, 160)               0         \n",
      "_________________________________________________________________\n",
      "dense (Dense)                (None, 1)                 161       \n",
      "=================================================================\n",
      "Total params: 80,161\n",
      "Trainable params: 80,161\n",
      "Non-trainable params: 0\n",
      "_________________________________________________________________\n",
      "Epoch 1/10\n",
      "625/625 [==============================] - 2s 2ms/step - loss: 0.6671 - accuracy: 0.6301 - val_loss: 0.6159 - val_accuracy: 0.6968\n",
      "Epoch 2/10\n",
      "625/625 [==============================] - 1s 1ms/step - loss: 0.5376 - accuracy: 0.7538 - val_loss: 0.5231 - val_accuracy: 0.7312\n",
      "Epoch 3/10\n",
      "625/625 [==============================] - 1s 1ms/step - loss: 0.4592 - accuracy: 0.7876 - val_loss: 0.4988 - val_accuracy: 0.7468\n",
      "Epoch 4/10\n",
      "625/625 [==============================] - 1s 1ms/step - loss: 0.4219 - accuracy: 0.8068 - val_loss: 0.4947 - val_accuracy: 0.7518\n",
      "Epoch 5/10\n",
      "625/625 [==============================] - 1s 1ms/step - loss: 0.3974 - accuracy: 0.8204 - val_loss: 0.4963 - val_accuracy: 0.7506\n",
      "Epoch 6/10\n",
      "625/625 [==============================] - 1s 1ms/step - loss: 0.3771 - accuracy: 0.8328 - val_loss: 0.4981 - val_accuracy: 0.7586\n",
      "Epoch 7/10\n",
      "625/625 [==============================] - 1s 1ms/step - loss: 0.3579 - accuracy: 0.8428 - val_loss: 0.5017 - val_accuracy: 0.7578\n",
      "Epoch 8/10\n",
      "625/625 [==============================] - 1s 1ms/step - loss: 0.3398 - accuracy: 0.8536 - val_loss: 0.5068 - val_accuracy: 0.7574\n",
      "Epoch 9/10\n",
      "625/625 [==============================] - 1s 1ms/step - loss: 0.3216 - accuracy: 0.8648 - val_loss: 0.5144 - val_accuracy: 0.7548\n",
      "Epoch 10/10\n",
      "625/625 [==============================] - 1s 1ms/step - loss: 0.3035 - accuracy: 0.8748 - val_loss: 0.5200 - val_accuracy: 0.7518\n"
     ]
    }
   ],
   "source": [
    "from tensorflow.keras.models import Sequential\n",
    "\n",
    "model = Sequential()\n",
    "# We specify the maximum input length to our Embedding layer so we can later flatten the embedded inputs\n",
    "model.add(layers.Embedding(10000, 8, input_length=maxlen))\n",
    "# After the Embedding layer, our activations have shape `(samples, maxlen, dimensionality(8))`.\n",
    "\n",
    "# We flatten the 3D tensor of embeddings into a 2D tensor of shape `(samples, maxlen * 8)`\n",
    "model.add(layers.Flatten())\n",
    "\n",
    "# We add the classifier on top\n",
    "model.add(layers.Dense(1, activation='sigmoid'))\n",
    "model.compile(optimizer='rmsprop', loss='binary_crossentropy', metrics=['accuracy'])\n",
    "model.summary()\n",
    "\n",
    "history = model.fit(x_train, y_train,\n",
    "                    epochs=10,\n",
    "                    batch_size=32,\n",
    "                    validation_split=0.2)"
   ]
  },
  {
   "cell_type": "code",
   "execution_count": 4,
   "id": "405cfeed",
   "metadata": {
    "execution": {
     "iopub.execute_input": "2022-08-22T22:15:00.684273Z",
     "iopub.status.busy": "2022-08-22T22:15:00.683524Z",
     "iopub.status.idle": "2022-08-22T22:16:34.196305Z",
     "shell.execute_reply": "2022-08-22T22:16:34.195675Z",
     "shell.execute_reply.started": "2022-08-22T22:04:20.606992Z"
    },
    "papermill": {
     "duration": 93.575169,
     "end_time": "2022-08-22T22:16:34.196474",
     "exception": false,
     "start_time": "2022-08-22T22:15:00.621305",
     "status": "completed"
    },
    "tags": []
   },
   "outputs": [],
   "source": [
    "# From raw text to word embeddings\n",
    "import os\n",
    "\n",
    "imdb_dir = '../input/embedding2/aclImdb'\n",
    "train_dir = os.path.join(imdb_dir, 'train')\n",
    "\n",
    "labels = []\n",
    "texts = []\n",
    "\n",
    "for label_type in ['neg', 'pos']:\n",
    "    dir_name = os.path.join(train_dir, label_type)\n",
    "    for fname in os.listdir(dir_name):\n",
    "        if fname[-4:] == '.txt':\n",
    "            f = open(os.path.join(dir_name, fname))\n",
    "            texts.append(f.read())\n",
    "            f.close()\n",
    "            if label_type == 'neg':\n",
    "                labels.append(0)\n",
    "            else:\n",
    "                labels.append(1)"
   ]
  },
  {
   "cell_type": "code",
   "execution_count": 5,
   "id": "5e93d3d9",
   "metadata": {
    "execution": {
     "iopub.execute_input": "2022-08-22T22:16:34.325183Z",
     "iopub.status.busy": "2022-08-22T22:16:34.324219Z",
     "iopub.status.idle": "2022-08-22T22:16:43.147124Z",
     "shell.execute_reply": "2022-08-22T22:16:43.145691Z",
     "shell.execute_reply.started": "2022-08-22T22:05:43.129491Z"
    },
    "papermill": {
     "duration": 8.889802,
     "end_time": "2022-08-22T22:16:43.147313",
     "exception": false,
     "start_time": "2022-08-22T22:16:34.257511",
     "status": "completed"
    },
    "tags": []
   },
   "outputs": [
    {
     "name": "stdout",
     "output_type": "stream",
     "text": [
      "Found 88582 unique tokens.\n",
      "Shape of data tensor: (25000, 100)\n",
      "Shape of label tensor: (25000,)\n"
     ]
    }
   ],
   "source": [
    "# Tokenize the data\n",
    "from tensorflow.keras.preprocessing.text import Tokenizer\n",
    "from tensorflow.keras.preprocessing.sequence import pad_sequences\n",
    "import numpy as np\n",
    "\n",
    "maxlen = 100  # Cut reviews after 100 words\n",
    "training_samples = 200  # Train on 200 samples\n",
    "validation_samples = 10000  # Validate on 10000 samples\n",
    "max_words = 10000  # Consider only the top 10,000 words in the dataset\n",
    "\n",
    "tokenizer = Tokenizer(num_words=max_words)\n",
    "tokenizer.fit_on_texts(texts)\n",
    "sequences = tokenizer.texts_to_sequences(texts)\n",
    "\n",
    "word_index = tokenizer.word_index\n",
    "print(f\"Found {len(word_index)} unique tokens.\")\n",
    "\n",
    "data = pad_sequences(sequences, maxlen=maxlen)\n",
    "\n",
    "labels = np.asarray(labels)\n",
    "print(f\"Shape of data tensor: {data.shape}\")\n",
    "print(f\"Shape of label tensor: {labels.shape}\")\n",
    "\n",
    "# Split the data into a training set and a validation set.\n",
    "# But first, shuffle the data, since we started from data\n",
    "# where sample are ordered (all negative first, then all positive).\n",
    "indices = np.arange(data.shape[0])\n",
    "np.random.shuffle(indices)\n",
    "data = data[indices]\n",
    "labels = labels[indices]\n",
    "\n",
    "x_train = data[:training_samples]\n",
    "y_train = labels[:training_samples]\n",
    "x_val = data[training_samples: training_samples + validation_samples]\n",
    "y_val = labels[training_samples: training_samples + validation_samples]"
   ]
  },
  {
   "cell_type": "code",
   "execution_count": 6,
   "id": "db4eb91f",
   "metadata": {
    "execution": {
     "iopub.execute_input": "2022-08-22T22:16:43.268373Z",
     "iopub.status.busy": "2022-08-22T22:16:43.267733Z",
     "iopub.status.idle": "2022-08-22T22:16:53.859389Z",
     "shell.execute_reply": "2022-08-22T22:16:53.858815Z",
     "shell.execute_reply.started": "2022-08-22T22:05:54.860641Z"
    },
    "papermill": {
     "duration": 10.652354,
     "end_time": "2022-08-22T22:16:53.859533",
     "exception": false,
     "start_time": "2022-08-22T22:16:43.207179",
     "status": "completed"
    },
    "tags": []
   },
   "outputs": [
    {
     "name": "stdout",
     "output_type": "stream",
     "text": [
      "Found 400000 word vectors.\n"
     ]
    }
   ],
   "source": [
    "# Pre-process the embeddings\n",
    "# parsing the GloVe word-embedding file\n",
    "\n",
    "glove_dir = '../input/glove-word'\n",
    "\n",
    "embeddings_index = {}\n",
    "f = open(os.path.join(glove_dir, 'glove.6B.100d.txt'))\n",
    "for line in f:\n",
    "    values = line.split()\n",
    "    word = values[0]\n",
    "    coefs = np.asarray(values[1:], dtype='float32')\n",
    "    embeddings_index[word] = coefs\n",
    "f.close()\n",
    "\n",
    "print(f\"Found {len(embeddings_index)} word vectors.\")"
   ]
  },
  {
   "cell_type": "code",
   "execution_count": 7,
   "id": "fd26872d",
   "metadata": {
    "execution": {
     "iopub.execute_input": "2022-08-22T22:16:53.986643Z",
     "iopub.status.busy": "2022-08-22T22:16:53.986011Z",
     "iopub.status.idle": "2022-08-22T22:16:54.064239Z",
     "shell.execute_reply": "2022-08-22T22:16:54.063628Z",
     "shell.execute_reply.started": "2022-08-22T22:06:07.095954Z"
    },
    "papermill": {
     "duration": 0.144327,
     "end_time": "2022-08-22T22:16:54.064395",
     "exception": false,
     "start_time": "2022-08-22T22:16:53.920068",
     "status": "completed"
    },
    "tags": []
   },
   "outputs": [],
   "source": [
    "# Now let's build an embedding matrix that we will be able to load into an Embedding layer.\n",
    "# It must be a matrix of shape (max_words, embedding_dim),\n",
    "# where each entry i contains the embedding_dim-dimensional\n",
    "# vector for the word of index i in our reference word index (built during tokenization).\n",
    "\n",
    "embedding_dim = 100\n",
    "\n",
    "embedding_matrix = np.zeros((max_words, embedding_dim))\n",
    "for word, i in word_index.items():\n",
    "    embedding_vector = embeddings_index.get(word)\n",
    "    if i < max_words:\n",
    "        if embedding_vector is not None:\n",
    "            # Words not found in embedding index will be all-zeros.\n",
    "            embedding_matrix[i] = embedding_vector"
   ]
  },
  {
   "cell_type": "code",
   "execution_count": 8,
   "id": "5a8125b1",
   "metadata": {
    "execution": {
     "iopub.execute_input": "2022-08-22T22:16:54.190121Z",
     "iopub.status.busy": "2022-08-22T22:16:54.189479Z",
     "iopub.status.idle": "2022-08-22T22:16:54.237246Z",
     "shell.execute_reply": "2022-08-22T22:16:54.237770Z",
     "shell.execute_reply.started": "2022-08-22T22:06:07.216487Z"
    },
    "papermill": {
     "duration": 0.11285,
     "end_time": "2022-08-22T22:16:54.237979",
     "exception": false,
     "start_time": "2022-08-22T22:16:54.125129",
     "status": "completed"
    },
    "tags": []
   },
   "outputs": [
    {
     "name": "stdout",
     "output_type": "stream",
     "text": [
      "Model: \"sequential_1\"\n",
      "_________________________________________________________________\n",
      "Layer (type)                 Output Shape              Param #   \n",
      "=================================================================\n",
      "embedding_2 (Embedding)      (None, 100, 100)          1000000   \n",
      "_________________________________________________________________\n",
      "flatten_1 (Flatten)          (None, 10000)             0         \n",
      "_________________________________________________________________\n",
      "dense_1 (Dense)              (None, 32)                320032    \n",
      "_________________________________________________________________\n",
      "dense_2 (Dense)              (None, 1)                 33        \n",
      "=================================================================\n",
      "Total params: 1,320,065\n",
      "Trainable params: 1,320,065\n",
      "Non-trainable params: 0\n",
      "_________________________________________________________________\n"
     ]
    }
   ],
   "source": [
    "# Define a model\n",
    "from tensorflow.keras.models import Sequential\n",
    "from tensorflow.keras.layers import Embedding, Flatten, Dense\n",
    "\n",
    "model = Sequential()\n",
    "model.add(Embedding(max_words, embedding_dim, input_length=maxlen))\n",
    "model.add(Flatten())\n",
    "model.add(Dense(32, activation='relu'))\n",
    "model.add(Dense(1, activation='sigmoid'))\n",
    "\n",
    "model.summary()"
   ]
  },
  {
   "cell_type": "markdown",
   "id": "5947264a",
   "metadata": {
    "papermill": {
     "duration": 0.059963,
     "end_time": "2022-08-22T22:16:54.356173",
     "exception": false,
     "start_time": "2022-08-22T22:16:54.296210",
     "status": "completed"
    },
    "tags": []
   },
   "source": [
    "**Load the GloVe embeddings in the model**\n",
    "The Embedding layer has a single weight matrix: a 2D float matrix where each entry i is the word vector meant to be associated with index i. Simple enough. Let's just load the GloVe matrix we prepared into our Embedding layer, the first layer in our model:"
   ]
  },
  {
   "cell_type": "code",
   "execution_count": 9,
   "id": "d8242d80",
   "metadata": {
    "execution": {
     "iopub.execute_input": "2022-08-22T22:16:54.482215Z",
     "iopub.status.busy": "2022-08-22T22:16:54.480980Z",
     "iopub.status.idle": "2022-08-22T22:16:54.487524Z",
     "shell.execute_reply": "2022-08-22T22:16:54.488027Z",
     "shell.execute_reply.started": "2022-08-22T22:06:07.282912Z"
    },
    "papermill": {
     "duration": 0.0729,
     "end_time": "2022-08-22T22:16:54.488220",
     "exception": false,
     "start_time": "2022-08-22T22:16:54.415320",
     "status": "completed"
    },
    "tags": []
   },
   "outputs": [],
   "source": [
    "model.layers[0].set_weights([embedding_matrix])\n",
    "model.layers[0].trainable = False #freeze the embedding layer"
   ]
  },
  {
   "cell_type": "code",
   "execution_count": 10,
   "id": "4a3edd4b",
   "metadata": {
    "execution": {
     "iopub.execute_input": "2022-08-22T22:16:54.617067Z",
     "iopub.status.busy": "2022-08-22T22:16:54.616375Z",
     "iopub.status.idle": "2022-08-22T22:17:00.186436Z",
     "shell.execute_reply": "2022-08-22T22:17:00.185812Z",
     "shell.execute_reply.started": "2022-08-22T22:06:07.298210Z"
    },
    "papermill": {
     "duration": 5.638648,
     "end_time": "2022-08-22T22:17:00.186581",
     "exception": false,
     "start_time": "2022-08-22T22:16:54.547933",
     "status": "completed"
    },
    "tags": []
   },
   "outputs": [
    {
     "name": "stdout",
     "output_type": "stream",
     "text": [
      "Epoch 1/10\n",
      "7/7 [==============================] - 1s 101ms/step - loss: 1.6593 - acc: 0.5500 - val_loss: 0.6916 - val_acc: 0.5382\n",
      "Epoch 2/10\n",
      "7/7 [==============================] - 0s 72ms/step - loss: 0.5944 - acc: 0.6950 - val_loss: 1.4616 - val_acc: 0.4967\n",
      "Epoch 3/10\n",
      "7/7 [==============================] - 0s 73ms/step - loss: 0.6178 - acc: 0.6400 - val_loss: 0.8023 - val_acc: 0.5176\n",
      "Epoch 4/10\n",
      "7/7 [==============================] - 0s 77ms/step - loss: 0.3265 - acc: 0.8600 - val_loss: 1.1511 - val_acc: 0.5026\n",
      "Epoch 5/10\n",
      "7/7 [==============================] - 0s 71ms/step - loss: 0.2420 - acc: 0.9200 - val_loss: 1.3176 - val_acc: 0.5040\n",
      "Epoch 6/10\n",
      "7/7 [==============================] - 0s 76ms/step - loss: 0.1775 - acc: 0.9350 - val_loss: 0.7358 - val_acc: 0.5637\n",
      "Epoch 7/10\n",
      "7/7 [==============================] - 0s 75ms/step - loss: 0.0762 - acc: 1.0000 - val_loss: 0.7421 - val_acc: 0.5712\n",
      "Epoch 8/10\n",
      "7/7 [==============================] - 0s 75ms/step - loss: 0.0607 - acc: 0.9950 - val_loss: 3.3272 - val_acc: 0.4967\n",
      "Epoch 9/10\n",
      "7/7 [==============================] - 0s 77ms/step - loss: 0.4571 - acc: 0.8400 - val_loss: 0.7681 - val_acc: 0.5750\n",
      "Epoch 10/10\n",
      "7/7 [==============================] - 0s 73ms/step - loss: 0.0269 - acc: 1.0000 - val_loss: 0.7910 - val_acc: 0.5732\n"
     ]
    }
   ],
   "source": [
    "# Train and evaluate\n",
    "model.compile(optimizer='rmsprop',\n",
    "              loss='binary_crossentropy',\n",
    "              metrics=['acc'])\n",
    "history = model.fit(x_train, y_train,\n",
    "                    epochs=10,\n",
    "                    batch_size=32,\n",
    "                    validation_data=(x_val, y_val))\n",
    "\n",
    "model.save_weights('pre_trained_glove_model.h5')"
   ]
  },
  {
   "cell_type": "code",
   "execution_count": 11,
   "id": "0ae22ae2",
   "metadata": {
    "execution": {
     "iopub.execute_input": "2022-08-22T22:17:00.328956Z",
     "iopub.status.busy": "2022-08-22T22:17:00.326323Z",
     "iopub.status.idle": "2022-08-22T22:17:00.745546Z",
     "shell.execute_reply": "2022-08-22T22:17:00.744980Z",
     "shell.execute_reply.started": "2022-08-22T22:07:30.294318Z"
    },
    "papermill": {
     "duration": 0.497122,
     "end_time": "2022-08-22T22:17:00.745670",
     "exception": false,
     "start_time": "2022-08-22T22:17:00.248548",
     "status": "completed"
    },
    "tags": []
   },
   "outputs": [
    {
     "data": {
      "image/png": "[encoded data removed]",
      "text/plain": [
       "<Figure size 432x288 with 1 Axes>"
      ]
     },
     "metadata": {
      "needs_background": "light"
     },
     "output_type": "display_data"
    },
    {
     "data": {
      "image/png": "[encoded data removed]",
      "text/plain": [
       "<Figure size 432x288 with 1 Axes>"
      ]
     },
     "metadata": {
      "needs_background": "light"
     },
     "output_type": "display_data"
    }
   ],
   "source": [
    "# Plot performance over time\n",
    "\n",
    "import matplotlib.pyplot as plt\n",
    "\n",
    "def plot_performance_over_time(history):\n",
    "    acc = history.history['acc']\n",
    "    val_acc = history.history['val_acc']\n",
    "    loss = history.history['loss']\n",
    "    val_loss = history.history['val_loss']\n",
    "\n",
    "    epochs = range(1, len(acc) + 1)\n",
    "\n",
    "    plt.plot(epochs, acc, 'bo', label='Training acc')\n",
    "    plt.plot(epochs, val_acc, 'b', label='Validation acc')\n",
    "    plt.title('Training and validation accuracy')\n",
    "    plt.legend()\n",
    "\n",
    "    plt.figure()\n",
    "\n",
    "    plt.plot(epochs, loss, 'bo', label='Training loss')\n",
    "    plt.plot(epochs, val_loss, 'b', label='Validation loss')\n",
    "    plt.title('Training and validation loss')\n",
    "    plt.legend()\n",
    "\n",
    "    plt.show()\n",
    "    \n",
    "plot_performance_over_time(history)"
   ]
  },
  {
   "cell_type": "code",
   "execution_count": 12,
   "id": "615efe35",
   "metadata": {
    "execution": {
     "iopub.execute_input": "2022-08-22T22:17:00.879167Z",
     "iopub.status.busy": "2022-08-22T22:17:00.878477Z",
     "iopub.status.idle": "2022-08-22T22:17:07.273307Z",
     "shell.execute_reply": "2022-08-22T22:17:07.272762Z",
     "shell.execute_reply.started": "2022-08-22T22:07:30.779791Z"
    },
    "papermill": {
     "duration": 6.465169,
     "end_time": "2022-08-22T22:17:07.273447",
     "exception": false,
     "start_time": "2022-08-22T22:17:00.808278",
     "status": "completed"
    },
    "tags": []
   },
   "outputs": [
    {
     "name": "stdout",
     "output_type": "stream",
     "text": [
      "Model: \"sequential_2\"\n",
      "_________________________________________________________________\n",
      "Layer (type)                 Output Shape              Param #   \n",
      "=================================================================\n",
      "embedding_3 (Embedding)      (None, 100, 100)          1000000   \n",
      "_________________________________________________________________\n",
      "flatten_2 (Flatten)          (None, 10000)             0         \n",
      "_________________________________________________________________\n",
      "dense_3 (Dense)              (None, 32)                320032    \n",
      "_________________________________________________________________\n",
      "dense_4 (Dense)              (None, 1)                 33        \n",
      "=================================================================\n",
      "Total params: 1,320,065\n",
      "Trainable params: 1,320,065\n",
      "Non-trainable params: 0\n",
      "_________________________________________________________________\n",
      "Epoch 1/10\n",
      "7/7 [==============================] - 1s 137ms/step - loss: 0.6921 - acc: 0.4600 - val_loss: 0.6919 - val_acc: 0.5225\n",
      "Epoch 2/10\n",
      "7/7 [==============================] - 0s 73ms/step - loss: 0.5092 - acc: 0.9900 - val_loss: 0.6965 - val_acc: 0.5311\n",
      "Epoch 3/10\n",
      "7/7 [==============================] - 1s 114ms/step - loss: 0.2950 - acc: 0.9950 - val_loss: 0.7010 - val_acc: 0.5222\n",
      "Epoch 4/10\n",
      "7/7 [==============================] - 0s 77ms/step - loss: 0.1320 - acc: 1.0000 - val_loss: 0.7128 - val_acc: 0.5375\n",
      "Epoch 5/10\n",
      "7/7 [==============================] - 0s 78ms/step - loss: 0.0600 - acc: 1.0000 - val_loss: 0.7229 - val_acc: 0.5357\n",
      "Epoch 6/10\n",
      "7/7 [==============================] - 0s 75ms/step - loss: 0.0311 - acc: 1.0000 - val_loss: 0.7292 - val_acc: 0.5429\n",
      "Epoch 7/10\n",
      "7/7 [==============================] - 0s 75ms/step - loss: 0.0170 - acc: 1.0000 - val_loss: 0.7396 - val_acc: 0.5437\n",
      "Epoch 8/10\n",
      "7/7 [==============================] - 1s 113ms/step - loss: 0.0099 - acc: 1.0000 - val_loss: 0.7518 - val_acc: 0.5432\n",
      "Epoch 9/10\n",
      "7/7 [==============================] - 1s 113ms/step - loss: 0.0059 - acc: 1.0000 - val_loss: 0.7607 - val_acc: 0.5461\n",
      "Epoch 10/10\n",
      "7/7 [==============================] - 0s 76ms/step - loss: 0.0036 - acc: 1.0000 - val_loss: 0.7652 - val_acc: 0.5449\n"
     ]
    }
   ],
   "source": [
    "# training the same model without pretained word embedding\n",
    "\n",
    "from tensorflow.keras.models import Sequential\n",
    "from tensorflow.keras.layers import Embedding, Flatten, Dense\n",
    "\n",
    "model = Sequential()\n",
    "model.add(Embedding(max_words, embedding_dim, input_length=maxlen))\n",
    "model.add(Flatten())\n",
    "model.add(Dense(32, activation='relu'))\n",
    "model.add(Dense(1, activation='sigmoid'))\n",
    "model.summary()\n",
    "\n",
    "model.compile(optimizer='rmsprop',\n",
    "              loss='binary_crossentropy',\n",
    "              metrics=['acc'])\n",
    "history = model.fit(x_train, y_train,\n",
    "                    epochs=10,\n",
    "                    batch_size=32,\n",
    "                    validation_data=(x_val, y_val))"
   ]
  },
  {
   "cell_type": "code",
   "execution_count": 13,
   "id": "a75ecf3a",
   "metadata": {
    "execution": {
     "iopub.execute_input": "2022-08-22T22:17:07.437032Z",
     "iopub.status.busy": "2022-08-22T22:17:07.432385Z",
     "iopub.status.idle": "2022-08-22T22:17:07.823266Z",
     "shell.execute_reply": "2022-08-22T22:17:07.823836Z",
     "shell.execute_reply.started": "2022-08-22T22:08:12.587427Z"
    },
    "papermill": {
     "duration": 0.47996,
     "end_time": "2022-08-22T22:17:07.824034",
     "exception": false,
     "start_time": "2022-08-22T22:17:07.344074",
     "status": "completed"
    },
    "tags": []
   },
   "outputs": [
    {
     "data": {
      "image/png": "[encoded data removed]",
      "text/plain": [
       "<Figure size 432x288 with 1 Axes>"
      ]
     },
     "metadata": {
      "needs_background": "light"
     },
     "output_type": "display_data"
    },
    {
     "data": {
      "image/png": "[encoded data removed]",
      "text/plain": [
       "<Figure size 432x288 with 1 Axes>"
      ]
     },
     "metadata": {
      "needs_background": "light"
     },
     "output_type": "display_data"
    }
   ],
   "source": [
    "plot_performance_over_time(history)"
   ]
  },
  {
   "cell_type": "markdown",
   "id": "2a246f7d",
   "metadata": {
    "papermill": {
     "duration": 0.07335,
     "end_time": "2022-08-22T22:17:07.971992",
     "exception": false,
     "start_time": "2022-08-22T22:17:07.898642",
     "status": "completed"
    },
    "tags": []
   },
   "source": [
    "Validation accuracy stalls in the low 50s. So in our case, pre-trained word embeddings does outperform jointly learned embeddings. If we increase the number of training samples, this will quickly stop being the case. Let's try it with an alternative model:"
   ]
  },
  {
   "cell_type": "code",
   "execution_count": 14,
   "id": "5413b765",
   "metadata": {
    "execution": {
     "iopub.execute_input": "2022-08-22T22:17:08.118644Z",
     "iopub.status.busy": "2022-08-22T22:17:08.118071Z",
     "iopub.status.idle": "2022-08-22T22:17:10.947876Z",
     "shell.execute_reply": "2022-08-22T22:17:10.948422Z",
     "shell.execute_reply.started": "2022-08-22T22:08:13.050969Z"
    },
    "papermill": {
     "duration": 2.904451,
     "end_time": "2022-08-22T22:17:10.948635",
     "exception": false,
     "start_time": "2022-08-22T22:17:08.044184",
     "status": "completed"
    },
    "tags": []
   },
   "outputs": [
    {
     "name": "stdout",
     "output_type": "stream",
     "text": [
      "Epoch 1/10\n",
      "25/25 [==============================] - 1s 15ms/step - loss: 0.6918 - acc: 0.5138 - val_loss: 0.6889 - val_acc: 0.5340\n",
      "Epoch 2/10\n",
      "25/25 [==============================] - 0s 9ms/step - loss: 0.4249 - acc: 0.9663 - val_loss: 0.6896 - val_acc: 0.5430\n",
      "Epoch 3/10\n",
      "25/25 [==============================] - 0s 8ms/step - loss: 0.1267 - acc: 0.9962 - val_loss: 0.6711 - val_acc: 0.5970\n",
      "Epoch 4/10\n",
      "25/25 [==============================] - 0s 8ms/step - loss: 0.0268 - acc: 1.0000 - val_loss: 0.7093 - val_acc: 0.5850\n",
      "Epoch 5/10\n",
      "25/25 [==============================] - 0s 8ms/step - loss: 0.0059 - acc: 1.0000 - val_loss: 0.7282 - val_acc: 0.6040\n",
      "Epoch 6/10\n",
      "25/25 [==============================] - 0s 8ms/step - loss: 0.0014 - acc: 1.0000 - val_loss: 0.7428 - val_acc: 0.6160\n",
      "Epoch 7/10\n",
      "25/25 [==============================] - 0s 8ms/step - loss: 3.3114e-04 - acc: 1.0000 - val_loss: 0.7730 - val_acc: 0.6230\n",
      "Epoch 8/10\n",
      "25/25 [==============================] - 0s 8ms/step - loss: 7.9972e-05 - acc: 1.0000 - val_loss: 0.8128 - val_acc: 0.6260\n",
      "Epoch 9/10\n",
      "25/25 [==============================] - 0s 8ms/step - loss: 2.1277e-05 - acc: 1.0000 - val_loss: 0.8450 - val_acc: 0.6370\n",
      "Epoch 10/10\n",
      "25/25 [==============================] - 0s 8ms/step - loss: 5.9641e-06 - acc: 1.0000 - val_loss: 0.8933 - val_acc: 0.6300\n"
     ]
    }
   ],
   "source": [
    "training_samples = 800 # Increase training set to 1000\n",
    "validation_samples = 1000\n",
    "\n",
    "alt_x_train = data[:training_samples]\n",
    "alt_y_train = labels[:training_samples]\n",
    "alt_x_val = data[training_samples: training_samples + validation_samples]\n",
    "alt_y_val = labels[training_samples: training_samples + validation_samples]\n",
    "\n",
    "\n",
    "alt_model = Sequential()\n",
    "alt_model.add(Embedding(max_words, embedding_dim, input_length=maxlen))\n",
    "alt_model.add(Flatten())\n",
    "alt_model.add(Dense(32, activation='relu'))\n",
    "alt_model.add(Dense(1, activation='sigmoid'))\n",
    "\n",
    "alt_model.compile(optimizer='rmsprop',\n",
    "              loss='binary_crossentropy',\n",
    "              metrics=['acc'])\n",
    "history = alt_model.fit(alt_x_train, alt_y_train,\n",
    "                    epochs=10,\n",
    "                    batch_size=32,\n",
    "                    validation_data=(alt_x_val, alt_y_val))"
   ]
  },
  {
   "cell_type": "markdown",
   "id": "187c1a78",
   "metadata": {
    "papermill": {
     "duration": 0.080961,
     "end_time": "2022-08-22T22:17:11.109535",
     "exception": false,
     "start_time": "2022-08-22T22:17:11.028574",
     "status": "completed"
    },
    "tags": []
   },
   "source": [
    "**Evaluation**\n",
    "Finally, let's evaluate the model with pre-trained embeddings on the test data. First, we will need to tokenize the test data:"
   ]
  },
  {
   "cell_type": "code",
   "execution_count": 15,
   "id": "6cb83ef9",
   "metadata": {
    "execution": {
     "iopub.execute_input": "2022-08-22T22:17:11.275838Z",
     "iopub.status.busy": "2022-08-22T22:17:11.275192Z",
     "iopub.status.idle": "2022-08-22T22:18:45.880198Z",
     "shell.execute_reply": "2022-08-22T22:18:45.879639Z",
     "shell.execute_reply.started": "2022-08-22T22:08:22.827581Z"
    },
    "papermill": {
     "duration": 94.690181,
     "end_time": "2022-08-22T22:18:45.880360",
     "exception": false,
     "start_time": "2022-08-22T22:17:11.190179",
     "status": "completed"
    },
    "tags": []
   },
   "outputs": [],
   "source": [
    "# tokenize the data of the test set\n",
    "test_dir = os.path.join(imdb_dir, 'test')\n",
    "\n",
    "labels = []\n",
    "texts = []\n",
    "\n",
    "for label_type in ['neg', 'pos']:\n",
    "    dir_name = os.path.join(test_dir, label_type)\n",
    "    for fname in sorted(os.listdir(dir_name)):\n",
    "        if fname[-4:] == '.txt':\n",
    "            f = open(os.path.join(dir_name, fname))\n",
    "            texts.append(f.read())\n",
    "            f.close()\n",
    "            if label_type == 'neg':\n",
    "                labels.append(0)\n",
    "            else:\n",
    "                labels.append(1)\n",
    "\n",
    "sequences = tokenizer.texts_to_sequences(texts)\n",
    "x_test = pad_sequences(sequences, maxlen=maxlen)\n",
    "y_test = np.asarray(labels)"
   ]
  },
  {
   "cell_type": "code",
   "execution_count": 16,
   "id": "a6f14ad3",
   "metadata": {
    "execution": {
     "iopub.execute_input": "2022-08-22T22:18:46.044358Z",
     "iopub.status.busy": "2022-08-22T22:18:46.043448Z",
     "iopub.status.idle": "2022-08-22T22:18:47.261089Z",
     "shell.execute_reply": "2022-08-22T22:18:47.261516Z",
     "shell.execute_reply.started": "2022-08-22T22:09:49.709884Z"
    },
    "papermill": {
     "duration": 1.301901,
     "end_time": "2022-08-22T22:18:47.261686",
     "exception": false,
     "start_time": "2022-08-22T22:18:45.959785",
     "status": "completed"
    },
    "tags": []
   },
   "outputs": [
    {
     "name": "stdout",
     "output_type": "stream",
     "text": [
      "782/782 [==============================] - 1s 1ms/step - loss: 0.7972 - acc: 0.5698\n"
     ]
    },
    {
     "data": {
      "text/plain": [
       "[0.797152042388916, 0.5698400139808655]"
      ]
     },
     "execution_count": 16,
     "metadata": {},
     "output_type": "execute_result"
    }
   ],
   "source": [
    "# Load and evaluate the model on test set\n",
    "model.load_weights('pre_trained_glove_model.h5')\n",
    "model.evaluate(x_test, y_test)"
   ]
  }
 ],
 "metadata": {
  "kernelspec": {
   "display_name": "Python 3",
   "language": "python",
   "name": "python3"
  },
  "language_info": {
   "codemirror_mode": {
    "name": "ipython",
    "version": 3
   },
   "file_extension": ".py",
   "mimetype": "text/x-python",
   "name": "python",
   "nbconvert_exporter": "python",
   "pygments_lexer": "ipython3",
   "version": "3.7.12"
  },
  "papermill": {
   "default_parameters": {},
   "duration": 261.558253,
   "end_time": "2022-08-22T22:18:50.558389",
   "environment_variables": {},
   "exception": null,
   "input_path": "__notebook__.ipynb",
   "output_path": "__notebook__.ipynb",
   "parameters": {},
   "start_time": "2022-08-22T22:14:29.000136",
   "version": "2.3.3"
  }
 },
 "nbformat": 4,
 "nbformat_minor": 5
}
